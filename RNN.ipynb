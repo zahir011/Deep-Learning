{
  "nbformat": 4,
  "nbformat_minor": 0,
  "metadata": {
    "colab": {
      "provenance": []
    },
    "kernelspec": {
      "name": "python3",
      "display_name": "Python 3"
    },
    "language_info": {
      "name": "python"
    }
  },
  "cells": [
    {
      "cell_type": "code",
      "execution_count": 2,
      "metadata": {
        "id": "65ZyWzE6BEAu"
      },
      "outputs": [],
      "source": [
        "# Import libraries\n",
        "import pandas as pd\n",
        "import numpy as np\n",
        "import matplotlib.pyplot as plt\n",
        "import seaborn as sns\n",
        "import tensorflow as tf\n",
        "from tensorflow.keras import datasets,layers,models\n"
      ]
    },
    {
      "cell_type": "code",
      "source": [
        "# load the IMBD dataset:\n",
        "(train_data,train_labels),(test_data,test_labels)=datasets.imdb.load_data(num_words=10000)"
      ],
      "metadata": {
        "id": "G_GXBjJnBvzh"
      },
      "execution_count": 4,
      "outputs": []
    },
    {
      "cell_type": "code",
      "source": [
        "# Process the data:\n",
        "train_data = tf.keras.preprocessing.sequence.pad_sequences(train_data, maxlen=500)\n",
        "test_data = tf.keras.preprocessing.sequence.pad_sequences(test_data, maxlen=500)"
      ],
      "metadata": {
        "id": "QvLSrMsQCDLT"
      },
      "execution_count": 5,
      "outputs": []
    },
    {
      "cell_type": "code",
      "source": [
        "# Deifne the model:\n",
        "model = models.Sequential()\n",
        "model.add(layers.Embedding(10000,32))\n",
        "model.add(layers.SimpleRNN(32))\n",
        "model.add(layers.Dense(1,activation='sigmoid'))"
      ],
      "metadata": {
        "id": "rMy_KMs0DFHG"
      },
      "execution_count": 11,
      "outputs": []
    },
    {
      "cell_type": "code",
      "source": [
        "# compile the model:\n",
        "model.compile(optimizer='rmsprop', loss='binary_crossentropy', metrics=['acc'])"
      ],
      "metadata": {
        "id": "OoDY28ZKD7u9"
      },
      "execution_count": 12,
      "outputs": []
    },
    {
      "cell_type": "code",
      "source": [
        "# Train the model:\n",
        "history = model.fit(train_data,train_labels,epochs=10,validation_split=0.2)"
      ],
      "metadata": {
        "colab": {
          "base_uri": "https://localhost:8080/"
        },
        "id": "2KOpm0atEcsp",
        "outputId": "8bbb0084-6331-4675-e2cb-fb1d94c14724"
      },
      "execution_count": 13,
      "outputs": [
        {
          "output_type": "stream",
          "name": "stdout",
          "text": [
            "Epoch 1/10\n",
            "\u001b[1m625/625\u001b[0m \u001b[32m━━━━━━━━━━━━━━━━━━━━\u001b[0m\u001b[37m\u001b[0m \u001b[1m73s\u001b[0m 113ms/step - acc: 0.5842 - loss: 0.6528 - val_acc: 0.8264 - val_loss: 0.4044\n",
            "Epoch 2/10\n",
            "\u001b[1m625/625\u001b[0m \u001b[32m━━━━━━━━━━━━━━━━━━━━\u001b[0m\u001b[37m\u001b[0m \u001b[1m82s\u001b[0m 113ms/step - acc: 0.8472 - loss: 0.3655 - val_acc: 0.8236 - val_loss: 0.4113\n",
            "Epoch 3/10\n",
            "\u001b[1m625/625\u001b[0m \u001b[32m━━━━━━━━━━━━━━━━━━━━\u001b[0m\u001b[37m\u001b[0m \u001b[1m81s\u001b[0m 112ms/step - acc: 0.8747 - loss: 0.3076 - val_acc: 0.8412 - val_loss: 0.3696\n",
            "Epoch 4/10\n",
            "\u001b[1m625/625\u001b[0m \u001b[32m━━━━━━━━━━━━━━━━━━━━\u001b[0m\u001b[37m\u001b[0m \u001b[1m83s\u001b[0m 114ms/step - acc: 0.9043 - loss: 0.2430 - val_acc: 0.8542 - val_loss: 0.3995\n",
            "Epoch 5/10\n",
            "\u001b[1m625/625\u001b[0m \u001b[32m━━━━━━━━━━━━━━━━━━━━\u001b[0m\u001b[37m\u001b[0m \u001b[1m72s\u001b[0m 116ms/step - acc: 0.9196 - loss: 0.2101 - val_acc: 0.8458 - val_loss: 0.4142\n",
            "Epoch 6/10\n",
            "\u001b[1m625/625\u001b[0m \u001b[32m━━━━━━━━━━━━━━━━━━━━\u001b[0m\u001b[37m\u001b[0m \u001b[1m81s\u001b[0m 115ms/step - acc: 0.9385 - loss: 0.1673 - val_acc: 0.8384 - val_loss: 0.4367\n",
            "Epoch 7/10\n",
            "\u001b[1m625/625\u001b[0m \u001b[32m━━━━━━━━━━━━━━━━━━━━\u001b[0m\u001b[37m\u001b[0m \u001b[1m83s\u001b[0m 116ms/step - acc: 0.9547 - loss: 0.1249 - val_acc: 0.8174 - val_loss: 0.5089\n",
            "Epoch 8/10\n",
            "\u001b[1m625/625\u001b[0m \u001b[32m━━━━━━━━━━━━━━━━━━━━\u001b[0m\u001b[37m\u001b[0m \u001b[1m71s\u001b[0m 113ms/step - acc: 0.9703 - loss: 0.0858 - val_acc: 0.7852 - val_loss: 0.5593\n",
            "Epoch 9/10\n",
            "\u001b[1m625/625\u001b[0m \u001b[32m━━━━━━━━━━━━━━━━━━━━\u001b[0m\u001b[37m\u001b[0m \u001b[1m83s\u001b[0m 115ms/step - acc: 0.9815 - loss: 0.0597 - val_acc: 0.7930 - val_loss: 0.7348\n",
            "Epoch 10/10\n",
            "\u001b[1m625/625\u001b[0m \u001b[32m━━━━━━━━━━━━━━━━━━━━\u001b[0m\u001b[37m\u001b[0m \u001b[1m82s\u001b[0m 115ms/step - acc: 0.9857 - loss: 0.0471 - val_acc: 0.8146 - val_loss: 0.6520\n"
          ]
        }
      ]
    },
    {
      "cell_type": "markdown",
      "source": [],
      "metadata": {
        "id": "QSpNLWXwEdJt"
      }
    },
    {
      "cell_type": "code",
      "source": [
        "# Evaluate the model:\n",
        "test_loss, test_acc = model.evaluate(test_data, test_labels)\n",
        "print('Test accuracy:', test_acc)"
      ],
      "metadata": {
        "colab": {
          "base_uri": "https://localhost:8080/"
        },
        "id": "KxxK96GMQdQp",
        "outputId": "db4b3371-fdd4-4611-efc6-083c51121044"
      },
      "execution_count": 14,
      "outputs": [
        {
          "output_type": "stream",
          "name": "stdout",
          "text": [
            "\u001b[1m782/782\u001b[0m \u001b[32m━━━━━━━━━━━━━━━━━━━━\u001b[0m\u001b[37m\u001b[0m \u001b[1m23s\u001b[0m 29ms/step - acc: 0.8094 - loss: 0.6724\n",
            "Test accuracy: 0.8128799796104431\n"
          ]
        }
      ]
    },
    {
      "cell_type": "code",
      "source": [],
      "metadata": {
        "id": "urCuGRo-R5aL"
      },
      "execution_count": null,
      "outputs": []
    }
  ]
}